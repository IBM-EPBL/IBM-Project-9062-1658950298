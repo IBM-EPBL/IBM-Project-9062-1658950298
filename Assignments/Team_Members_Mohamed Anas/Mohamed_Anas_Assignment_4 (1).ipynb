{
  "nbformat": 4,
  "nbformat_minor": 0,
  "metadata": {
    "colab": {
      "provenance": [],
      "collapsed_sections": []
    },
    "kernelspec": {
      "name": "python3",
      "display_name": "Python 3"
    },
    "language_info": {
      "name": "python"
    }
  },
  "cells": [
    {
      "cell_type": "markdown",
      "source": [
        "![Screenshot (13).png](data:image/png;base64,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)"
      ],
      "metadata": {
        "id": "8QfaQz1hfPst"
      }
    },
    {
      "cell_type": "markdown",
      "source": [
        "# **Import the libraries**"
      ],
      "metadata": {
        "id": "fesCTw2YgexT"
      }
    },
    {
      "cell_type": "code",
      "source": [
        "import pandas as pd\n",
        "import numpy as np\n",
        "import matplotlib.pyplot as plt\n",
        "import seaborn as sns\n",
        "from sklearn.model_selection import train_test_split\n",
        "from tensorflow.keras.preprocessing.sequence import pad_sequences\n",
        "from sklearn.preprocessing import LabelEncoder\n",
        "from tensorflow.keras.models import Model\n",
        "from tensorflow.keras.layers import LSTM, Activation, Dense, Dropout, Input, Embedding\n",
        "from tensorflow.keras.optimizers import RMSprop\n",
        "from tensorflow.keras.preprocessing.text import Tokenizer\n",
        "from tensorflow.keras.preprocessing import sequence\n",
        "from tensorflow.keras.utils import to_categorical\n",
        "from tensorflow.keras.callbacks import EarlyStopping\n",
        "%matplotlib inline"
      ],
      "metadata": {
        "id": "yH7fTGq_gnGm"
      },
      "execution_count": null,
      "outputs": []
    },
    {
      "cell_type": "markdown",
      "source": [
        "# **Preprocessing**"
      ],
      "metadata": {
        "id": "e19ikT21gvzk"
      }
    },
    {
      "cell_type": "code",
      "source": [
        "df = pd.read_csv('/content/spam.csv',delimiter=',',encoding='latin-1')\n",
        "df.head()"
      ],
      "metadata": {
        "colab": {
          "base_uri": "https://localhost:8080/",
          "height": 206
        },
        "id": "NTu4_XPrgzMw",
        "outputId": "fd610d6d-c9e6-4e81-877c-0be7a9750bfa"
      },
      "execution_count": null,
      "outputs": [
        {
          "output_type": "execute_result",
          "data": {
            "text/plain": [
              "     v1                                                 v2 Unnamed: 2  \\\n",
              "0   ham  Go until jurong point, crazy.. Available only ...        NaN   \n",
              "1   ham                      Ok lar... Joking wif u oni...        NaN   \n",
              "2  spam  Free entry in 2 a wkly comp to win FA Cup fina...        NaN   \n",
              "3   ham  U dun say so early hor... U c already then say...        NaN   \n",
              "4   ham  Nah I don't think he goes to usf, he lives aro...        NaN   \n",
              "\n",
              "  Unnamed: 3 Unnamed: 4  \n",
              "0        NaN        NaN  \n",
              "1        NaN        NaN  \n",
              "2        NaN        NaN  \n",
              "3        NaN        NaN  \n",
              "4        NaN        NaN  "
            ],
            "text/html": [
              "\n",
              "  <div id=\"df-7980edfb-f97b-42b9-914c-6ee06e96d423\">\n",
              "    <div class=\"colab-df-container\">\n",
              "      <div>\n",
              "<style scoped>\n",
              "    .dataframe tbody tr th:only-of-type {\n",
              "        vertical-align: middle;\n",
              "    }\n",
              "\n",
              "    .dataframe tbody tr th {\n",
              "        vertical-align: top;\n",
              "    }\n",
              "\n",
              "    .dataframe thead th {\n",
              "        text-align: right;\n",
              "    }\n",
              "</style>\n",
              "<table border=\"1\" class=\"dataframe\">\n",
              "  <thead>\n",
              "    <tr style=\"text-align: right;\">\n",
              "      <th></th>\n",
              "      <th>v1</th>\n",
              "      <th>v2</th>\n",
              "      <th>Unnamed: 2</th>\n",
              "      <th>Unnamed: 3</th>\n",
              "      <th>Unnamed: 4</th>\n",
              "    </tr>\n",
              "  </thead>\n",
              "  <tbody>\n",
              "    <tr>\n",
              "      <th>0</th>\n",
              "      <td>ham</td>\n",
              "      <td>Go until jurong point, crazy.. Available only ...</td>\n",
              "      <td>NaN</td>\n",
              "      <td>NaN</td>\n",
              "      <td>NaN</td>\n",
              "    </tr>\n",
              "    <tr>\n",
              "      <th>1</th>\n",
              "      <td>ham</td>\n",
              "      <td>Ok lar... Joking wif u oni...</td>\n",
              "      <td>NaN</td>\n",
              "      <td>NaN</td>\n",
              "      <td>NaN</td>\n",
              "    </tr>\n",
              "    <tr>\n",
              "      <th>2</th>\n",
              "      <td>spam</td>\n",
              "      <td>Free entry in 2 a wkly comp to win FA Cup fina...</td>\n",
              "      <td>NaN</td>\n",
              "      <td>NaN</td>\n",
              "      <td>NaN</td>\n",
              "    </tr>\n",
              "    <tr>\n",
              "      <th>3</th>\n",
              "      <td>ham</td>\n",
              "      <td>U dun say so early hor... U c already then say...</td>\n",
              "      <td>NaN</td>\n",
              "      <td>NaN</td>\n",
              "      <td>NaN</td>\n",
              "    </tr>\n",
              "    <tr>\n",
              "      <th>4</th>\n",
              "      <td>ham</td>\n",
              "      <td>Nah I don't think he goes to usf, he lives aro...</td>\n",
              "      <td>NaN</td>\n",
              "      <td>NaN</td>\n",
              "      <td>NaN</td>\n",
              "    </tr>\n",
              "  </tbody>\n",
              "</table>\n",
              "</div>\n",
              "      <button class=\"colab-df-convert\" onclick=\"convertToInteractive('df-7980edfb-f97b-42b9-914c-6ee06e96d423')\"\n",
              "              title=\"Convert this dataframe to an interactive table.\"\n",
              "              style=\"display:none;\">\n",
              "        \n",
              "  <svg xmlns=\"http://www.w3.org/2000/svg\" height=\"24px\"viewBox=\"0 0 24 24\"\n",
              "       width=\"24px\">\n",
              "    <path d=\"M0 0h24v24H0V0z\" fill=\"none\"/>\n",
              "    <path d=\"M18.56 5.44l.94 2.06.94-2.06 2.06-.94-2.06-.94-.94-2.06-.94 2.06-2.06.94zm-11 1L8.5 8.5l.94-2.06 2.06-.94-2.06-.94L8.5 2.5l-.94 2.06-2.06.94zm10 10l.94 2.06.94-2.06 2.06-.94-2.06-.94-.94-2.06-.94 2.06-2.06.94z\"/><path d=\"M17.41 7.96l-1.37-1.37c-.4-.4-.92-.59-1.43-.59-.52 0-1.04.2-1.43.59L10.3 9.45l-7.72 7.72c-.78.78-.78 2.05 0 2.83L4 21.41c.39.39.9.59 1.41.59.51 0 1.02-.2 1.41-.59l7.78-7.78 2.81-2.81c.8-.78.8-2.07 0-2.86zM5.41 20L4 18.59l7.72-7.72 1.47 1.35L5.41 20z\"/>\n",
              "  </svg>\n",
              "      </button>\n",
              "      \n",
              "  <style>\n",
              "    .colab-df-container {\n",
              "      display:flex;\n",
              "      flex-wrap:wrap;\n",
              "      gap: 12px;\n",
              "    }\n",
              "\n",
              "    .colab-df-convert {\n",
              "      background-color: #E8F0FE;\n",
              "      border: none;\n",
              "      border-radius: 50%;\n",
              "      cursor: pointer;\n",
              "      display: none;\n",
              "      fill: #1967D2;\n",
              "      height: 32px;\n",
              "      padding: 0 0 0 0;\n",
              "      width: 32px;\n",
              "    }\n",
              "\n",
              "    .colab-df-convert:hover {\n",
              "      background-color: #E2EBFA;\n",
              "      box-shadow: 0px 1px 2px rgba(60, 64, 67, 0.3), 0px 1px 3px 1px rgba(60, 64, 67, 0.15);\n",
              "      fill: #174EA6;\n",
              "    }\n",
              "\n",
              "    [theme=dark] .colab-df-convert {\n",
              "      background-color: #3B4455;\n",
              "      fill: #D2E3FC;\n",
              "    }\n",
              "\n",
              "    [theme=dark] .colab-df-convert:hover {\n",
              "      background-color: #434B5C;\n",
              "      box-shadow: 0px 1px 3px 1px rgba(0, 0, 0, 0.15);\n",
              "      filter: drop-shadow(0px 1px 2px rgba(0, 0, 0, 0.3));\n",
              "      fill: #FFFFFF;\n",
              "    }\n",
              "  </style>\n",
              "\n",
              "      <script>\n",
              "        const buttonEl =\n",
              "          document.querySelector('#df-7980edfb-f97b-42b9-914c-6ee06e96d423 button.colab-df-convert');\n",
              "        buttonEl.style.display =\n",
              "          google.colab.kernel.accessAllowed ? 'block' : 'none';\n",
              "\n",
              "        async function convertToInteractive(key) {\n",
              "          const element = document.querySelector('#df-7980edfb-f97b-42b9-914c-6ee06e96d423');\n",
              "          const dataTable =\n",
              "            await google.colab.kernel.invokeFunction('convertToInteractive',\n",
              "                                                     [key], {});\n",
              "          if (!dataTable) return;\n",
              "\n",
              "          const docLinkHtml = 'Like what you see? Visit the ' +\n",
              "            '<a target=\"_blank\" href=https://colab.research.google.com/notebooks/data_table.ipynb>data table notebook</a>'\n",
              "            + ' to learn more about interactive tables.';\n",
              "          element.innerHTML = '';\n",
              "          dataTable['output_type'] = 'display_data';\n",
              "          await google.colab.output.renderOutput(dataTable, element);\n",
              "          const docLink = document.createElement('div');\n",
              "          docLink.innerHTML = docLinkHtml;\n",
              "          element.appendChild(docLink);\n",
              "        }\n",
              "      </script>\n",
              "    </div>\n",
              "  </div>\n",
              "  "
            ]
          },
          "metadata": {},
          "execution_count": 16
        }
      ]
    },
    {
      "cell_type": "code",
      "source": [
        "df.drop(['Unnamed: 2', 'Unnamed: 3', 'Unnamed: 4'],axis=1,inplace=True)\n",
        "df.info()"
      ],
      "metadata": {
        "colab": {
          "base_uri": "https://localhost:8080/"
        },
        "id": "9rBPTFzdhWp2",
        "outputId": "07b4c86a-6231-4a41-da67-723b08b8d335"
      },
      "execution_count": null,
      "outputs": [
        {
          "output_type": "stream",
          "name": "stdout",
          "text": [
            "<class 'pandas.core.frame.DataFrame'>\n",
            "RangeIndex: 5572 entries, 0 to 5571\n",
            "Data columns (total 2 columns):\n",
            " #   Column  Non-Null Count  Dtype \n",
            "---  ------  --------------  ----- \n",
            " 0   v1      5572 non-null   object\n",
            " 1   v2      5572 non-null   object\n",
            "dtypes: object(2)\n",
            "memory usage: 87.2+ KB\n"
          ]
        }
      ]
    },
    {
      "cell_type": "code",
      "source": [
        "sns.countplot(df.v1)\n",
        "plt.xlabel('Label')\n",
        "plt.title('Number of ham and spam messages')"
      ],
      "metadata": {
        "colab": {
          "base_uri": "https://localhost:8080/",
          "height": 369
        },
        "id": "EtrLy4lVheMN",
        "outputId": "490d946f-9c6f-4acd-a997-9c55c86725b9"
      },
      "execution_count": null,
      "outputs": [
        {
          "output_type": "stream",
          "name": "stderr",
          "text": [
            "/usr/local/lib/python3.7/dist-packages/seaborn/_decorators.py:43: FutureWarning: Pass the following variable as a keyword arg: x. From version 0.12, the only valid positional argument will be `data`, and passing other arguments without an explicit keyword will result in an error or misinterpretation.\n",
            "  FutureWarning\n"
          ]
        },
        {
          "output_type": "execute_result",
          "data": {
            "text/plain": [
              "Text(0.5, 1.0, 'Number of ham and spam messages')"
            ]
          },
          "metadata": {},
          "execution_count": 29
        },
        {
          "output_type": "display_data",
          "data": {
            "text/plain": [
              "<Figure size 432x288 with 1 Axes>"
            ],
            "image/png": "[encoded data removed]"
          },
          "metadata": {
            "needs_background": "light"
          }
        }
      ]
    },
    {
      "cell_type": "code",
      "source": [
        "X = df.v2\n",
        "Y = df.v1\n",
        "le = LabelEncoder()\n",
        "Y = le.fit_transform(Y)\n",
        "Y = Y.reshape(-1,1)"
      ],
      "metadata": {
        "id": "2pxhJB9chjrd"
      },
      "execution_count": null,
      "outputs": []
    },
    {
      "cell_type": "code",
      "source": [
        "X_train,X_test,Y_train,Y_test = train_test_split(X,Y,test_size=0.15)"
      ],
      "metadata": {
        "id": "QRmrcYW2hntm"
      },
      "execution_count": null,
      "outputs": []
    },
    {
      "cell_type": "code",
      "source": [
        "max_words = 1000\n",
        "max_len = 150\n",
        "tok = Tokenizer(num_words=max_words)\n",
        "tok.fit_on_texts(X_train)\n",
        "sequences = tok.texts_to_sequences(X_train)\n",
        "sequences_matrix = sequence.pad_sequences(sequences,maxlen=max_len)\n"
      ],
      "metadata": {
        "id": "lx_7SSyzhtN0"
      },
      "execution_count": null,
      "outputs": []
    },
    {
      "cell_type": "markdown",
      "source": [
        "# **RNN**"
      ],
      "metadata": {
        "id": "k6rX66HnhyNt"
      }
    },
    {
      "cell_type": "markdown",
      "source": [
        "**Create Model**\n"
      ],
      "metadata": {
        "id": "TwmID5LKiUr2"
      }
    },
    {
      "cell_type": "markdown",
      "source": [
        "**Add Layers (LSTM, Dense-(Hidden Layers), Output)**"
      ],
      "metadata": {
        "id": "ugk_6a_8jDRK"
      }
    },
    {
      "cell_type": "code",
      "source": [
        "def RNN():\n",
        "    inputs = Input(name='inputs',shape=[max_len])\n",
        "    layer = Embedding(max_words,50,input_length=max_len)(inputs)\n",
        "    layer = LSTM(64)(layer)\n",
        "    layer = Dense(256,name='FC1')(layer)\n",
        "    layer = Activation('relu')(layer)\n",
        "    layer = Dropout(0.5)(layer)\n",
        "    layer = Dense(1,name='out_layer')(layer)\n",
        "    layer = Activation('sigmoid')(layer)\n",
        "    model = Model(inputs=inputs,outputs=layer)\n",
        "    return model"
      ],
      "metadata": {
        "id": "Hu6qsPdKjKz2"
      },
      "execution_count": null,
      "outputs": []
    },
    {
      "cell_type": "markdown",
      "source": [
        "# **Compile the model**"
      ],
      "metadata": {
        "id": "6IhyCD9BjTRu"
      }
    },
    {
      "cell_type": "code",
      "source": [
        "model = RNN()\n",
        "model.summary()\n",
        "model.compile(loss='binary_crossentropy',optimizer=RMSprop(),metrics=['accuracy'])"
      ],
      "metadata": {
        "colab": {
          "base_uri": "https://localhost:8080/"
        },
        "id": "S_t_JDosjWCi",
        "outputId": "26d4402e-b195-46d3-bd12-03e5abcc8b64"
      },
      "execution_count": null,
      "outputs": [
        {
          "output_type": "stream",
          "name": "stdout",
          "text": [
            "Model: \"model_1\"\n",
            "_________________________________________________________________\n",
            " Layer (type)                Output Shape              Param #   \n",
            "=================================================================\n",
            " inputs (InputLayer)         [(None, 150)]             0         \n",
            "                                                                 \n",
            " embedding_1 (Embedding)     (None, 150, 50)           50000     \n",
            "                                                                 \n",
            " lstm_1 (LSTM)               (None, 64)                29440     \n",
            "                                                                 \n",
            " FC1 (Dense)                 (None, 256)               16640     \n",
            "                                                                 \n",
            " activation_2 (Activation)   (None, 256)               0         \n",
            "                                                                 \n",
            " dropout_1 (Dropout)         (None, 256)               0         \n",
            "                                                                 \n",
            " out_layer (Dense)           (None, 1)                 257       \n",
            "                                                                 \n",
            " activation_3 (Activation)   (None, 1)                 0         \n",
            "                                                                 \n",
            "=================================================================\n",
            "Total params: 96,337\n",
            "Trainable params: 96,337\n",
            "Non-trainable params: 0\n",
            "_________________________________________________________________\n"
          ]
        }
      ]
    },
    {
      "cell_type": "markdown",
      "source": [
        "# **Model Fit**"
      ],
      "metadata": {
        "id": "ejv2cCjCjhPt"
      }
    },
    {
      "cell_type": "code",
      "source": [
        "model.fit(sequences_matrix,Y_train,batch_size=128,epochs=10,\n",
        "          validation_split=0.2,callbacks=[EarlyStopping(monitor='val_loss',min_delta=0.0001)])"
      ],
      "metadata": {
        "colab": {
          "base_uri": "https://localhost:8080/"
        },
        "id": "mJxNlZ_qjobf",
        "outputId": "32a3513f-1b18-4fd5-e82c-7fd4271b0794"
      },
      "execution_count": null,
      "outputs": [
        {
          "output_type": "stream",
          "name": "stdout",
          "text": [
            "Epoch 1/10\n",
            "30/30 [==============================] - 11s 290ms/step - loss: 0.3303 - accuracy: 0.8762 - val_loss: 0.1478 - val_accuracy: 0.9578\n",
            "Epoch 2/10\n",
            "30/30 [==============================] - 8s 272ms/step - loss: 0.0900 - accuracy: 0.9797 - val_loss: 0.0608 - val_accuracy: 0.9789\n"
          ]
        },
        {
          "output_type": "execute_result",
          "data": {
            "text/plain": [
              "<keras.callbacks.History at 0x7fed17c78250>"
            ]
          },
          "metadata": {},
          "execution_count": 24
        }
      ]
    },
    {
      "cell_type": "markdown",
      "source": [
        "# **Save the model**"
      ],
      "metadata": {
        "id": "_VIuXC8tj0yh"
      }
    },
    {
      "cell_type": "code",
      "source": [
        "model.save('spam.h5')"
      ],
      "metadata": {
        "id": "EKRKpjj-j3bg"
      },
      "execution_count": null,
      "outputs": []
    },
    {
      "cell_type": "markdown",
      "source": [
        "# **Test the model**"
      ],
      "metadata": {
        "id": "YhzdrrKekDFx"
      }
    },
    {
      "cell_type": "code",
      "source": [
        "test_sequences = tok.texts_to_sequences(X_test)\n",
        "test_sequences_matrix = sequence.pad_sequences(test_sequences,maxlen=max_len)"
      ],
      "metadata": {
        "id": "Z0FSKbHckF1D"
      },
      "execution_count": null,
      "outputs": []
    },
    {
      "cell_type": "code",
      "source": [
        "accr = model.evaluate(test_sequences_matrix,Y_test)"
      ],
      "metadata": {
        "colab": {
          "base_uri": "https://localhost:8080/"
        },
        "id": "pGQFkbskkVM-",
        "outputId": "d496aaab-015a-40cb-8925-5bbea856aebe"
      },
      "execution_count": null,
      "outputs": [
        {
          "output_type": "stream",
          "name": "stdout",
          "text": [
            "27/27 [==============================] - 1s 23ms/step - loss: 0.0756 - accuracy: 0.9773\n"
          ]
        }
      ]
    },
    {
      "cell_type": "code",
      "source": [
        "print('Test set\\n  Loss: {:0.3f}\\n  Accuracy: {:0.3f}'.format(accr[0],accr[1]))"
      ],
      "metadata": {
        "colab": {
          "base_uri": "https://localhost:8080/"
        },
        "id": "TzCDza3OkdVP",
        "outputId": "3d8c8206-3963-4c40-e4bf-1377499d0455"
      },
      "execution_count": null,
      "outputs": [
        {
          "output_type": "stream",
          "name": "stdout",
          "text": [
            "Test set\n",
            "  Loss: 0.076\n",
            "  Accuracy: 0.977\n"
          ]
        }
      ]
    }
  ]
}