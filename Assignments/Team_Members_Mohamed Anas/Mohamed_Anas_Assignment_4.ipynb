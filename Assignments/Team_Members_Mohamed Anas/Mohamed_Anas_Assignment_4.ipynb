{
  "nbformat": 4,
  "nbformat_minor": 0,
  "metadata": {
    "colab": {
      "provenance": [],
      "collapsed_sections": []
    },
    "kernelspec": {
      "name": "python3",
      "display_name": "Python 3"
    },
    "language_info": {
      "name": "python"
    }
  },
  "cells": [
    {
      "cell_type": "markdown",
      "source": [
        "![Screenshot.png](data:image/png;base64,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)"
      ],
      "metadata": {
        "id": "CYqITLp7s1MF"
      }
    },
    {
      "cell_type": "markdown",
      "source": [
        "# **Import the libraries**"
      ],
      "metadata": {
        "id": "fesCTw2YgexT"
      }
    },
    {
      "cell_type": "code",
      "source": [
        "import pandas as pd\n",
        "import numpy as np\n",
        "import matplotlib.pyplot as plt\n",
        "import seaborn as sns\n",
        "from sklearn.model_selection import train_test_split\n",
        "from tensorflow.keras.preprocessing.sequence import pad_sequences\n",
        "from sklearn.preprocessing import LabelEncoder\n",
        "from tensorflow.keras.models import Model\n",
        "from tensorflow.keras.layers import LSTM, Activation, Dense, Dropout, Input, Embedding\n",
        "from tensorflow.keras.optimizers import RMSprop\n",
        "from tensorflow.keras.preprocessing.text import Tokenizer\n",
        "from tensorflow.keras.preprocessing import sequence\n",
        "from tensorflow.keras.utils import to_categorical\n",
        "from tensorflow.keras.callbacks import EarlyStopping\n",
        "%matplotlib inline"
      ],
      "metadata": {
        "id": "yH7fTGq_gnGm"
      },
      "execution_count": 15,
      "outputs": []
    },
    {
      "cell_type": "markdown",
      "source": [
        "# **Preprocessing**"
      ],
      "metadata": {
        "id": "e19ikT21gvzk"
      }
    },
    {
      "cell_type": "code",
      "source": [
        "df = pd.read_csv('/content/spam.csv',delimiter=',',encoding='latin-1')\n",
        "df.head()"
      ],
      "metadata": {
        "colab": {
          "base_uri": "https://localhost:8080/",
          "height": 206
        },
        "id": "NTu4_XPrgzMw",
        "outputId": "fd610d6d-c9e6-4e81-877c-0be7a9750bfa"
      },
      "execution_count": 16,
      "outputs": [
        {
          "output_type": "execute_result",
          "data": {
            "text/plain": [
              "     v1                                                 v2 Unnamed: 2  \\\n",
              "0   ham  Go until jurong point, crazy.. Available only ...        NaN   \n",
              "1   ham                      Ok lar... Joking wif u oni...        NaN   \n",
              "2  spam  Free entry in 2 a wkly comp to win FA Cup fina...        NaN   \n",
              "3   ham  U dun say so early hor... U c already then say...        NaN   \n",
              "4   ham  Nah I don't think he goes to usf, he lives aro...        NaN   \n",
              "\n",
              "  Unnamed: 3 Unnamed: 4  \n",
              "0        NaN        NaN  \n",
              "1        NaN        NaN  \n",
              "2        NaN        NaN  \n",
              "3        NaN        NaN  \n",
              "4        NaN        NaN  "
            ],
            "text/html": [
              "\n",
              "  <div id=\"df-7980edfb-f97b-42b9-914c-6ee06e96d423\">\n",
              "    <div class=\"colab-df-container\">\n",
              "      <div>\n",
              "<style scoped>\n",
              "    .dataframe tbody tr th:only-of-type {\n",
              "        vertical-align: middle;\n",
              "    }\n",
              "\n",
              "    .dataframe tbody tr th {\n",
              "        vertical-align: top;\n",
              "    }\n",
              "\n",
              "    .dataframe thead th {\n",
              "        text-align: right;\n",
              "    }\n",
              "</style>\n",
              "<table border=\"1\" class=\"dataframe\">\n",
              "  <thead>\n",
              "    <tr style=\"text-align: right;\">\n",
              "      <th></th>\n",
              "      <th>v1</th>\n",
              "      <th>v2</th>\n",
              "      <th>Unnamed: 2</th>\n",
              "      <th>Unnamed: 3</th>\n",
              "      <th>Unnamed: 4</th>\n",
              "    </tr>\n",
              "  </thead>\n",
              "  <tbody>\n",
              "    <tr>\n",
              "      <th>0</th>\n",
              "      <td>ham</td>\n",
              "      <td>Go until jurong point, crazy.. Available only ...</td>\n",
              "      <td>NaN</td>\n",
              "      <td>NaN</td>\n",
              "      <td>NaN</td>\n",
              "    </tr>\n",
              "    <tr>\n",
              "      <th>1</th>\n",
              "      <td>ham</td>\n",
              "      <td>Ok lar... Joking wif u oni...</td>\n",
              "      <td>NaN</td>\n",
              "      <td>NaN</td>\n",
              "      <td>NaN</td>\n",
              "    </tr>\n",
              "    <tr>\n",
              "      <th>2</th>\n",
              "      <td>spam</td>\n",
              "      <td>Free entry in 2 a wkly comp to win FA Cup fina...</td>\n",
              "      <td>NaN</td>\n",
              "      <td>NaN</td>\n",
              "      <td>NaN</td>\n",
              "    </tr>\n",
              "    <tr>\n",
              "      <th>3</th>\n",
              "      <td>ham</td>\n",
              "      <td>U dun say so early hor... U c already then say...</td>\n",
              "      <td>NaN</td>\n",
              "      <td>NaN</td>\n",
              "      <td>NaN</td>\n",
              "    </tr>\n",
              "    <tr>\n",
              "      <th>4</th>\n",
              "      <td>ham</td>\n",
              "      <td>Nah I don't think he goes to usf, he lives aro...</td>\n",
              "      <td>NaN</td>\n",
              "      <td>NaN</td>\n",
              "      <td>NaN</td>\n",
              "    </tr>\n",
              "  </tbody>\n",
              "</table>\n",
              "</div>\n",
              "      <button class=\"colab-df-convert\" onclick=\"convertToInteractive('df-7980edfb-f97b-42b9-914c-6ee06e96d423')\"\n",
              "              title=\"Convert this dataframe to an interactive table.\"\n",
              "              style=\"display:none;\">\n",
              "        \n",
              "  <svg xmlns=\"http://www.w3.org/2000/svg\" height=\"24px\"viewBox=\"0 0 24 24\"\n",
              "       width=\"24px\">\n",
              "    <path d=\"M0 0h24v24H0V0z\" fill=\"none\"/>\n",
              "    <path d=\"M18.56 5.44l.94 2.06.94-2.06 2.06-.94-2.06-.94-.94-2.06-.94 2.06-2.06.94zm-11 1L8.5 8.5l.94-2.06 2.06-.94-2.06-.94L8.5 2.5l-.94 2.06-2.06.94zm10 10l.94 2.06.94-2.06 2.06-.94-2.06-.94-.94-2.06-.94 2.06-2.06.94z\"/><path d=\"M17.41 7.96l-1.37-1.37c-.4-.4-.92-.59-1.43-.59-.52 0-1.04.2-1.43.59L10.3 9.45l-7.72 7.72c-.78.78-.78 2.05 0 2.83L4 21.41c.39.39.9.59 1.41.59.51 0 1.02-.2 1.41-.59l7.78-7.78 2.81-2.81c.8-.78.8-2.07 0-2.86zM5.41 20L4 18.59l7.72-7.72 1.47 1.35L5.41 20z\"/>\n",
              "  </svg>\n",
              "      </button>\n",
              "      \n",
              "  <style>\n",
              "    .colab-df-container {\n",
              "      display:flex;\n",
              "      flex-wrap:wrap;\n",
              "      gap: 12px;\n",
              "    }\n",
              "\n",
              "    .colab-df-convert {\n",
              "      background-color: #E8F0FE;\n",
              "      border: none;\n",
              "      border-radius: 50%;\n",
              "      cursor: pointer;\n",
              "      display: none;\n",
              "      fill: #1967D2;\n",
              "      height: 32px;\n",
              "      padding: 0 0 0 0;\n",
              "      width: 32px;\n",
              "    }\n",
              "\n",
              "    .colab-df-convert:hover {\n",
              "      background-color: #E2EBFA;\n",
              "      box-shadow: 0px 1px 2px rgba(60, 64, 67, 0.3), 0px 1px 3px 1px rgba(60, 64, 67, 0.15);\n",
              "      fill: #174EA6;\n",
              "    }\n",
              "\n",
              "    [theme=dark] .colab-df-convert {\n",
              "      background-color: #3B4455;\n",
              "      fill: #D2E3FC;\n",
              "    }\n",
              "\n",
              "    [theme=dark] .colab-df-convert:hover {\n",
              "      background-color: #434B5C;\n",
              "      box-shadow: 0px 1px 3px 1px rgba(0, 0, 0, 0.15);\n",
              "      filter: drop-shadow(0px 1px 2px rgba(0, 0, 0, 0.3));\n",
              "      fill: #FFFFFF;\n",
              "    }\n",
              "  </style>\n",
              "\n",
              "      <script>\n",
              "        const buttonEl =\n",
              "          document.querySelector('#df-7980edfb-f97b-42b9-914c-6ee06e96d423 button.colab-df-convert');\n",
              "        buttonEl.style.display =\n",
              "          google.colab.kernel.accessAllowed ? 'block' : 'none';\n",
              "\n",
              "        async function convertToInteractive(key) {\n",
              "          const element = document.querySelector('#df-7980edfb-f97b-42b9-914c-6ee06e96d423');\n",
              "          const dataTable =\n",
              "            await google.colab.kernel.invokeFunction('convertToInteractive',\n",
              "                                                     [key], {});\n",
              "          if (!dataTable) return;\n",
              "\n",
              "          const docLinkHtml = 'Like what you see? Visit the ' +\n",
              "            '<a target=\"_blank\" href=https://colab.research.google.com/notebooks/data_table.ipynb>data table notebook</a>'\n",
              "            + ' to learn more about interactive tables.';\n",
              "          element.innerHTML = '';\n",
              "          dataTable['output_type'] = 'display_data';\n",
              "          await google.colab.output.renderOutput(dataTable, element);\n",
              "          const docLink = document.createElement('div');\n",
              "          docLink.innerHTML = docLinkHtml;\n",
              "          element.appendChild(docLink);\n",
              "        }\n",
              "      </script>\n",
              "    </div>\n",
              "  </div>\n",
              "  "
            ]
          },
          "metadata": {},
          "execution_count": 16
        }
      ]
    },
    {
      "cell_type": "code",
      "source": [
        "df.drop(['Unnamed: 2', 'Unnamed: 3', 'Unnamed: 4'],axis=1,inplace=True)\n",
        "df.info()"
      ],
      "metadata": {
        "colab": {
          "base_uri": "https://localhost:8080/"
        },
        "id": "9rBPTFzdhWp2",
        "outputId": "07b4c86a-6231-4a41-da67-723b08b8d335"
      },
      "execution_count": 17,
      "outputs": [
        {
          "output_type": "stream",
          "name": "stdout",
          "text": [
            "<class 'pandas.core.frame.DataFrame'>\n",
            "RangeIndex: 5572 entries, 0 to 5571\n",
            "Data columns (total 2 columns):\n",
            " #   Column  Non-Null Count  Dtype \n",
            "---  ------  --------------  ----- \n",
            " 0   v1      5572 non-null   object\n",
            " 1   v2      5572 non-null   object\n",
            "dtypes: object(2)\n",
            "memory usage: 87.2+ KB\n"
          ]
        }
      ]
    },
    {
      "cell_type": "code",
      "source": [
        "sns.countplot(df.v1)\n",
        "plt.xlabel('Label')\n",
        "plt.title('Number of ham and spam messages')"
      ],
      "metadata": {
        "colab": {
          "base_uri": "https://localhost:8080/",
          "height": 369
        },
        "id": "EtrLy4lVheMN",
        "outputId": "5e91564b-5f14-4a5e-f433-aae8b18cefc9"
      },
      "execution_count": 18,
      "outputs": [
        {
          "output_type": "stream",
          "name": "stderr",
          "text": [
            "/usr/local/lib/python3.7/dist-packages/seaborn/_decorators.py:43: FutureWarning: Pass the following variable as a keyword arg: x. From version 0.12, the only valid positional argument will be `data`, and passing other arguments without an explicit keyword will result in an error or misinterpretation.\n",
            "  FutureWarning\n"
          ]
        },
        {
          "output_type": "execute_result",
          "data": {
            "text/plain": [
              "Text(0.5, 1.0, 'Number of ham and spam messages')"
            ]
          },
          "metadata": {},
          "execution_count": 18
        },
        {
          "output_type": "display_data",
          "data": {
            "text/plain": [
              "<Figure size 432x288 with 1 Axes>"
            ],
            "image/png": "[encoded data removed]"
          },
          "metadata": {
            "needs_background": "light"
          }
        }
      ]
    },
    {
      "cell_type": "code",
      "source": [
        "X = df.v2\n",
        "Y = df.v1\n",
        "le = LabelEncoder()\n",
        "Y = le.fit_transform(Y)\n",
        "Y = Y.reshape(-1,1)"
      ],
      "metadata": {
        "id": "2pxhJB9chjrd"
      },
      "execution_count": 19,
      "outputs": []
    },
    {
      "cell_type": "code",
      "source": [
        "X_train,X_test,Y_train,Y_test = train_test_split(X,Y,test_size=0.15)"
      ],
      "metadata": {
        "id": "QRmrcYW2hntm"
      },
      "execution_count": 20,
      "outputs": []
    },
    {
      "cell_type": "code",
      "source": [
        "max_words = 1000\n",
        "max_len = 150\n",
        "tok = Tokenizer(num_words=max_words)\n",
        "tok.fit_on_texts(X_train)\n",
        "sequences = tok.texts_to_sequences(X_train)\n",
        "sequences_matrix = sequence.pad_sequences(sequences,maxlen=max_len)\n"
      ],
      "metadata": {
        "id": "lx_7SSyzhtN0"
      },
      "execution_count": 21,
      "outputs": []
    },
    {
      "cell_type": "markdown",
      "source": [
        "# **RNN**"
      ],
      "metadata": {
        "id": "k6rX66HnhyNt"
      }
    },
    {
      "cell_type": "markdown",
      "source": [
        "**Create Model**\n"
      ],
      "metadata": {
        "id": "TwmID5LKiUr2"
      }
    },
    {
      "cell_type": "markdown",
      "source": [
        "**Add Layers (LSTM, Dense-(Hidden Layers), Output)**"
      ],
      "metadata": {
        "id": "ugk_6a_8jDRK"
      }
    },
    {
      "cell_type": "code",
      "source": [
        "def RNN():\n",
        "    inputs = Input(name='inputs',shape=[max_len])\n",
        "    layer = Embedding(max_words,50,input_length=max_len)(inputs)\n",
        "    layer = LSTM(64)(layer)\n",
        "    layer = Dense(256,name='FC1')(layer)\n",
        "    layer = Activation('relu')(layer)\n",
        "    layer = Dropout(0.5)(layer)\n",
        "    layer = Dense(1,name='out_layer')(layer)\n",
        "    layer = Activation('sigmoid')(layer)\n",
        "    model = Model(inputs=inputs,outputs=layer)\n",
        "    return model"
      ],
      "metadata": {
        "id": "Hu6qsPdKjKz2"
      },
      "execution_count": 22,
      "outputs": []
    },
    {
      "cell_type": "markdown",
      "source": [
        "# **Compile the model**"
      ],
      "metadata": {
        "id": "6IhyCD9BjTRu"
      }
    },
    {
      "cell_type": "code",
      "source": [
        "model = RNN()\n",
        "model.summary()\n",
        "model.compile(loss='binary_crossentropy',optimizer=RMSprop(),metrics=['accuracy'])"
      ],
      "metadata": {
        "colab": {
          "base_uri": "https://localhost:8080/"
        },
        "id": "S_t_JDosjWCi",
        "outputId": "26d4402e-b195-46d3-bd12-03e5abcc8b64"
      },
      "execution_count": 23,
      "outputs": [
        {
          "output_type": "stream",
          "name": "stdout",
          "text": [
            "Model: \"model_1\"\n",
            "_________________________________________________________________\n",
            " Layer (type)                Output Shape              Param #   \n",
            "=================================================================\n",
            " inputs (InputLayer)         [(None, 150)]             0         \n",
            "                                                                 \n",
            " embedding_1 (Embedding)     (None, 150, 50)           50000     \n",
            "                                                                 \n",
            " lstm_1 (LSTM)               (None, 64)                29440     \n",
            "                                                                 \n",
            " FC1 (Dense)                 (None, 256)               16640     \n",
            "                                                                 \n",
            " activation_2 (Activation)   (None, 256)               0         \n",
            "                                                                 \n",
            " dropout_1 (Dropout)         (None, 256)               0         \n",
            "                                                                 \n",
            " out_layer (Dense)           (None, 1)                 257       \n",
            "                                                                 \n",
            " activation_3 (Activation)   (None, 1)                 0         \n",
            "                                                                 \n",
            "=================================================================\n",
            "Total params: 96,337\n",
            "Trainable params: 96,337\n",
            "Non-trainable params: 0\n",
            "_________________________________________________________________\n"
          ]
        }
      ]
    },
    {
      "cell_type": "markdown",
      "source": [
        "# **Model Fit**"
      ],
      "metadata": {
        "id": "ejv2cCjCjhPt"
      }
    },
    {
      "cell_type": "code",
      "source": [
        "model.fit(sequences_matrix,Y_train,batch_size=128,epochs=10,\n",
        "          validation_split=0.2,callbacks=[EarlyStopping(monitor='val_loss',min_delta=0.0001)])"
      ],
      "metadata": {
        "colab": {
          "base_uri": "https://localhost:8080/"
        },
        "id": "mJxNlZ_qjobf",
        "outputId": "32a3513f-1b18-4fd5-e82c-7fd4271b0794"
      },
      "execution_count": 24,
      "outputs": [
        {
          "output_type": "stream",
          "name": "stdout",
          "text": [
            "Epoch 1/10\n",
            "30/30 [==============================] - 11s 290ms/step - loss: 0.3303 - accuracy: 0.8762 - val_loss: 0.1478 - val_accuracy: 0.9578\n",
            "Epoch 2/10\n",
            "30/30 [==============================] - 8s 272ms/step - loss: 0.0900 - accuracy: 0.9797 - val_loss: 0.0608 - val_accuracy: 0.9789\n"
          ]
        },
        {
          "output_type": "execute_result",
          "data": {
            "text/plain": [
              "<keras.callbacks.History at 0x7fed17c78250>"
            ]
          },
          "metadata": {},
          "execution_count": 24
        }
      ]
    },
    {
      "cell_type": "markdown",
      "source": [
        "# **Save the model**"
      ],
      "metadata": {
        "id": "_VIuXC8tj0yh"
      }
    },
    {
      "cell_type": "code",
      "source": [
        "model.save('spam.h5')"
      ],
      "metadata": {
        "id": "EKRKpjj-j3bg"
      },
      "execution_count": 25,
      "outputs": []
    },
    {
      "cell_type": "markdown",
      "source": [
        "# **Test the model**"
      ],
      "metadata": {
        "id": "YhzdrrKekDFx"
      }
    },
    {
      "cell_type": "code",
      "source": [
        "test_sequences = tok.texts_to_sequences(X_test)\n",
        "test_sequences_matrix = sequence.pad_sequences(test_sequences,maxlen=max_len)"
      ],
      "metadata": {
        "id": "Z0FSKbHckF1D"
      },
      "execution_count": 26,
      "outputs": []
    },
    {
      "cell_type": "code",
      "source": [
        "accr = model.evaluate(test_sequences_matrix,Y_test)"
      ],
      "metadata": {
        "colab": {
          "base_uri": "https://localhost:8080/"
        },
        "id": "pGQFkbskkVM-",
        "outputId": "d496aaab-015a-40cb-8925-5bbea856aebe"
      },
      "execution_count": 27,
      "outputs": [
        {
          "output_type": "stream",
          "name": "stdout",
          "text": [
            "27/27 [==============================] - 1s 23ms/step - loss: 0.0756 - accuracy: 0.9773\n"
          ]
        }
      ]
    },
    {
      "cell_type": "code",
      "source": [
        "print('Test set\\n  Loss: {:0.3f}\\n  Accuracy: {:0.3f}'.format(accr[0],accr[1]))"
      ],
      "metadata": {
        "colab": {
          "base_uri": "https://localhost:8080/"
        },
        "id": "TzCDza3OkdVP",
        "outputId": "3d8c8206-3963-4c40-e4bf-1377499d0455"
      },
      "execution_count": 28,
      "outputs": [
        {
          "output_type": "stream",
          "name": "stdout",
          "text": [
            "Test set\n",
            "  Loss: 0.076\n",
            "  Accuracy: 0.977\n"
          ]
        }
      ]
    }
  ]
}