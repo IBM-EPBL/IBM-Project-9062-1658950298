{
  "nbformat": 4,
  "nbformat_minor": 0,
  "metadata": {
    "colab": {
      "provenance": [],
      "collapsed_sections": []
    },
    "kernelspec": {
      "name": "python3",
      "display_name": "Python 3"
    },
    "language_info": {
      "name": "python"
    }
  },
  "cells": [
    {
      "cell_type": "markdown",
      "source": [
        "![Screenshot (2).png](data:image/png;base64,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)"
      ],
      "metadata": {
        "id": "pOpcgvLS7YzE"
      }
    },
    {
      "cell_type": "markdown",
      "source": [
        "# **Import the libraries**"
      ],
      "metadata": {
        "id": "9OjbLqNT0H7k"
      }
    },
    {
      "cell_type": "code",
      "source": [
        "import pandas as pd\n",
        "import numpy as np\n",
        "import matplotlib.pyplot as plt\n",
        "import seaborn as sns\n",
        "from sklearn.model_selection import train_test_split\n",
        "from tensorflow.keras.preprocessing.sequence import pad_sequences\n",
        "from sklearn.preprocessing import LabelEncoder\n",
        "from tensorflow.keras.models import Model\n",
        "from tensorflow.keras.layers import LSTM, Activation, Dense, Dropout, Input, Embedding\n",
        "from tensorflow.keras.optimizers import RMSprop\n",
        "from tensorflow.keras.preprocessing.text import Tokenizer\n",
        "from tensorflow.keras.preprocessing import sequence\n",
        "from tensorflow.keras.utils import to_categorical\n",
        "from tensorflow.keras.callbacks import EarlyStopping\n",
        "%matplotlib inline"
      ],
      "metadata": {
        "id": "44WbHP9G4DR_"
      },
      "execution_count": null,
      "outputs": []
    },
    {
      "cell_type": "markdown",
      "source": [
        "# **Preprocessing**"
      ],
      "metadata": {
        "id": "oVg-7yfY4R4D"
      }
    },
    {
      "cell_type": "code",
      "source": [
        "df = pd.read_csv('/content/spam.csv',delimiter=',',encoding='latin-1')\n",
        "df.head()"
      ],
      "metadata": {
        "colab": {
          "base_uri": "https://localhost:8080/",
          "height": 206
        },
        "id": "qx1hdqim4Zyn",
        "outputId": "e78923bd-cb65-44bc-ca23-d2df3461b176"
      },
      "execution_count": null,
      "outputs": [
        {
          "output_type": "execute_result",
          "data": {
            "text/plain": [
              "     v1                                                 v2 Unnamed: 2  \\\n",
              "0   ham  Go until jurong point, crazy.. Available only ...        NaN   \n",
              "1   ham                      Ok lar... Joking wif u oni...        NaN   \n",
              "2  spam  Free entry in 2 a wkly comp to win FA Cup fina...        NaN   \n",
              "3   ham  U dun say so early hor... U c already then say...        NaN   \n",
              "4   ham  Nah I don't think he goes to usf, he lives aro...        NaN   \n",
              "\n",
              "  Unnamed: 3 Unnamed: 4  \n",
              "0        NaN        NaN  \n",
              "1        NaN        NaN  \n",
              "2        NaN        NaN  \n",
              "3        NaN        NaN  \n",
              "4        NaN        NaN  "
            ],
            "text/html": [
              "\n",
              "  <div id=\"df-a0feb616-dfde-4278-8bf7-0782fc1eea33\">\n",
              "    <div class=\"colab-df-container\">\n",
              "      <div>\n",
              "<style scoped>\n",
              "    .dataframe tbody tr th:only-of-type {\n",
              "        vertical-align: middle;\n",
              "    }\n",
              "\n",
              "    .dataframe tbody tr th {\n",
              "        vertical-align: top;\n",
              "    }\n",
              "\n",
              "    .dataframe thead th {\n",
              "        text-align: right;\n",
              "    }\n",
              "</style>\n",
              "<table border=\"1\" class=\"dataframe\">\n",
              "  <thead>\n",
              "    <tr style=\"text-align: right;\">\n",
              "      <th></th>\n",
              "      <th>v1</th>\n",
              "      <th>v2</th>\n",
              "      <th>Unnamed: 2</th>\n",
              "      <th>Unnamed: 3</th>\n",
              "      <th>Unnamed: 4</th>\n",
              "    </tr>\n",
              "  </thead>\n",
              "  <tbody>\n",
              "    <tr>\n",
              "      <th>0</th>\n",
              "      <td>ham</td>\n",
              "      <td>Go until jurong point, crazy.. Available only ...</td>\n",
              "      <td>NaN</td>\n",
              "      <td>NaN</td>\n",
              "      <td>NaN</td>\n",
              "    </tr>\n",
              "    <tr>\n",
              "      <th>1</th>\n",
              "      <td>ham</td>\n",
              "      <td>Ok lar... Joking wif u oni...</td>\n",
              "      <td>NaN</td>\n",
              "      <td>NaN</td>\n",
              "      <td>NaN</td>\n",
              "    </tr>\n",
              "    <tr>\n",
              "      <th>2</th>\n",
              "      <td>spam</td>\n",
              "      <td>Free entry in 2 a wkly comp to win FA Cup fina...</td>\n",
              "      <td>NaN</td>\n",
              "      <td>NaN</td>\n",
              "      <td>NaN</td>\n",
              "    </tr>\n",
              "    <tr>\n",
              "      <th>3</th>\n",
              "      <td>ham</td>\n",
              "      <td>U dun say so early hor... U c already then say...</td>\n",
              "      <td>NaN</td>\n",
              "      <td>NaN</td>\n",
              "      <td>NaN</td>\n",
              "    </tr>\n",
              "    <tr>\n",
              "      <th>4</th>\n",
              "      <td>ham</td>\n",
              "      <td>Nah I don't think he goes to usf, he lives aro...</td>\n",
              "      <td>NaN</td>\n",
              "      <td>NaN</td>\n",
              "      <td>NaN</td>\n",
              "    </tr>\n",
              "  </tbody>\n",
              "</table>\n",
              "</div>\n",
              "      <button class=\"colab-df-convert\" onclick=\"convertToInteractive('df-a0feb616-dfde-4278-8bf7-0782fc1eea33')\"\n",
              "              title=\"Convert this dataframe to an interactive table.\"\n",
              "              style=\"display:none;\">\n",
              "        \n",
              "  <svg xmlns=\"http://www.w3.org/2000/svg\" height=\"24px\"viewBox=\"0 0 24 24\"\n",
              "       width=\"24px\">\n",
              "    <path d=\"M0 0h24v24H0V0z\" fill=\"none\"/>\n",
              "    <path d=\"M18.56 5.44l.94 2.06.94-2.06 2.06-.94-2.06-.94-.94-2.06-.94 2.06-2.06.94zm-11 1L8.5 8.5l.94-2.06 2.06-.94-2.06-.94L8.5 2.5l-.94 2.06-2.06.94zm10 10l.94 2.06.94-2.06 2.06-.94-2.06-.94-.94-2.06-.94 2.06-2.06.94z\"/><path d=\"M17.41 7.96l-1.37-1.37c-.4-.4-.92-.59-1.43-.59-.52 0-1.04.2-1.43.59L10.3 9.45l-7.72 7.72c-.78.78-.78 2.05 0 2.83L4 21.41c.39.39.9.59 1.41.59.51 0 1.02-.2 1.41-.59l7.78-7.78 2.81-2.81c.8-.78.8-2.07 0-2.86zM5.41 20L4 18.59l7.72-7.72 1.47 1.35L5.41 20z\"/>\n",
              "  </svg>\n",
              "      </button>\n",
              "      \n",
              "  <style>\n",
              "    .colab-df-container {\n",
              "      display:flex;\n",
              "      flex-wrap:wrap;\n",
              "      gap: 12px;\n",
              "    }\n",
              "\n",
              "    .colab-df-convert {\n",
              "      background-color: #E8F0FE;\n",
              "      border: none;\n",
              "      border-radius: 50%;\n",
              "      cursor: pointer;\n",
              "      display: none;\n",
              "      fill: #1967D2;\n",
              "      height: 32px;\n",
              "      padding: 0 0 0 0;\n",
              "      width: 32px;\n",
              "    }\n",
              "\n",
              "    .colab-df-convert:hover {\n",
              "      background-color: #E2EBFA;\n",
              "      box-shadow: 0px 1px 2px rgba(60, 64, 67, 0.3), 0px 1px 3px 1px rgba(60, 64, 67, 0.15);\n",
              "      fill: #174EA6;\n",
              "    }\n",
              "\n",
              "    [theme=dark] .colab-df-convert {\n",
              "      background-color: #3B4455;\n",
              "      fill: #D2E3FC;\n",
              "    }\n",
              "\n",
              "    [theme=dark] .colab-df-convert:hover {\n",
              "      background-color: #434B5C;\n",
              "      box-shadow: 0px 1px 3px 1px rgba(0, 0, 0, 0.15);\n",
              "      filter: drop-shadow(0px 1px 2px rgba(0, 0, 0, 0.3));\n",
              "      fill: #FFFFFF;\n",
              "    }\n",
              "  </style>\n",
              "\n",
              "      <script>\n",
              "        const buttonEl =\n",
              "          document.querySelector('#df-a0feb616-dfde-4278-8bf7-0782fc1eea33 button.colab-df-convert');\n",
              "        buttonEl.style.display =\n",
              "          google.colab.kernel.accessAllowed ? 'block' : 'none';\n",
              "\n",
              "        async function convertToInteractive(key) {\n",
              "          const element = document.querySelector('#df-a0feb616-dfde-4278-8bf7-0782fc1eea33');\n",
              "          const dataTable =\n",
              "            await google.colab.kernel.invokeFunction('convertToInteractive',\n",
              "                                                     [key], {});\n",
              "          if (!dataTable) return;\n",
              "\n",
              "          const docLinkHtml = 'Like what you see? Visit the ' +\n",
              "            '<a target=\"_blank\" href=https://colab.research.google.com/notebooks/data_table.ipynb>data table notebook</a>'\n",
              "            + ' to learn more about interactive tables.';\n",
              "          element.innerHTML = '';\n",
              "          dataTable['output_type'] = 'display_data';\n",
              "          await google.colab.output.renderOutput(dataTable, element);\n",
              "          const docLink = document.createElement('div');\n",
              "          docLink.innerHTML = docLinkHtml;\n",
              "          element.appendChild(docLink);\n",
              "        }\n",
              "      </script>\n",
              "    </div>\n",
              "  </div>\n",
              "  "
            ]
          },
          "metadata": {},
          "execution_count": 6
        }
      ]
    },
    {
      "cell_type": "code",
      "source": [
        "df.drop(['Unnamed: 2', 'Unnamed: 3', 'Unnamed: 4'],axis=1,inplace=True)\n",
        "df.info()"
      ],
      "metadata": {
        "colab": {
          "base_uri": "https://localhost:8080/",
          "height": 189
        },
        "id": "lsRAEGs344Ob",
        "outputId": "28ab524d-eb97-4250-955e-045539d14455"
      },
      "execution_count": null,
      "outputs": [
        {
          "output_type": "error",
          "ename": "NameError",
          "evalue": "ignored",
          "traceback": [
            "\u001b[0;31m---------------------------------------------------------------------------\u001b[0m",
            "\u001b[0;31mNameError\u001b[0m                                 Traceback (most recent call last)",
            "\u001b[0;32m<ipython-input-1-5bde97ef6bae>\u001b[0m in \u001b[0;36m<module>\u001b[0;34m\u001b[0m\n\u001b[0;32m----> 1\u001b[0;31m \u001b[0mdf\u001b[0m\u001b[0;34m.\u001b[0m\u001b[0mdrop\u001b[0m\u001b[0;34m(\u001b[0m\u001b[0;34m[\u001b[0m\u001b[0;34m'Unnamed: 2'\u001b[0m\u001b[0;34m,\u001b[0m \u001b[0;34m'Unnamed: 3'\u001b[0m\u001b[0;34m,\u001b[0m \u001b[0;34m'Unnamed: 4'\u001b[0m\u001b[0;34m]\u001b[0m\u001b[0;34m,\u001b[0m\u001b[0maxis\u001b[0m\u001b[0;34m=\u001b[0m\u001b[0;36m1\u001b[0m\u001b[0;34m,\u001b[0m\u001b[0minplace\u001b[0m\u001b[0;34m=\u001b[0m\u001b[0;32mTrue\u001b[0m\u001b[0;34m)\u001b[0m\u001b[0;34m\u001b[0m\u001b[0;34m\u001b[0m\u001b[0m\n\u001b[0m\u001b[1;32m      2\u001b[0m \u001b[0mdf\u001b[0m\u001b[0;34m.\u001b[0m\u001b[0minfo\u001b[0m\u001b[0;34m(\u001b[0m\u001b[0;34m)\u001b[0m\u001b[0;34m\u001b[0m\u001b[0;34m\u001b[0m\u001b[0m\n",
            "\u001b[0;31mNameError\u001b[0m: name 'df' is not defined"
          ]
        }
      ]
    },
    {
      "cell_type": "code",
      "source": [
        "sns.countplot(df.v1)\n",
        "plt.xlabel('Label')\n",
        "plt.title('Number of ham and spam messages')"
      ],
      "metadata": {
        "colab": {
          "base_uri": "https://localhost:8080/",
          "height": 312
        },
        "id": "6JN6Q8Lg5A5u",
        "outputId": "7f0d3738-a44e-4a62-9d15-f5711e2f44da"
      },
      "execution_count": null,
      "outputs": [
        {
          "output_type": "execute_result",
          "data": {
            "text/plain": [
              "Text(0.5, 1.0, 'Number of ham and spam messages')"
            ]
          },
          "metadata": {},
          "execution_count": 8
        },
        {
          "output_type": "display_data",
          "data": {
            "text/plain": [
              "<Figure size 432x288 with 1 Axes>"
            ],
            "image/png": "[encoded data removed]"
          },
          "metadata": {
            "needs_background": "light"
          }
        }
      ]
    },
    {
      "cell_type": "code",
      "source": [
        "X = df.v2\n",
        "Y = df.v1\n",
        "le = LabelEncoder()\n",
        "Y = le.fit_transform(Y)\n",
        "Y = Y.reshape(-1,1)"
      ],
      "metadata": {
        "id": "KOKdDtTA5aTU"
      },
      "execution_count": null,
      "outputs": []
    },
    {
      "cell_type": "code",
      "source": [
        "X_train,X_test,Y_train,Y_test = train_test_split(X,Y,test_size=0.15)"
      ],
      "metadata": {
        "id": "4t2P1QXj5mMy"
      },
      "execution_count": null,
      "outputs": []
    },
    {
      "cell_type": "code",
      "source": [
        "max_words = 1000\n",
        "max_len = 150\n",
        "tok = Tokenizer(num_words=max_words)\n",
        "tok.fit_on_texts(X_train)\n",
        "sequences = tok.texts_to_sequences(X_train)\n",
        "sequences_matrix = sequence.pad_sequences(sequences,maxlen=max_len)\n"
      ],
      "metadata": {
        "id": "qJVYYiMv6SCK"
      },
      "execution_count": null,
      "outputs": []
    },
    {
      "cell_type": "markdown",
      "source": [
        "# **RNN**"
      ],
      "metadata": {
        "id": "vmtfxIbn6flX"
      }
    },
    {
      "cell_type": "markdown",
      "source": [
        "**Create Model**"
      ],
      "metadata": {
        "id": "wSp69hEYJVeL"
      }
    },
    {
      "cell_type": "markdown",
      "source": [
        "**Add Layers (LSTM, Dense-(Hidden Layers), Output)**"
      ],
      "metadata": {
        "id": "I_ksbOPdJcWi"
      }
    },
    {
      "cell_type": "code",
      "source": [
        "def RNN():\n",
        "    inputs = Input(name='inputs',shape=[max_len])\n",
        "    layer = Embedding(max_words,50,input_length=max_len)(inputs)\n",
        "    layer = LSTM(64)(layer)\n",
        "    layer = Dense(256,name='FC1')(layer)\n",
        "    layer = Activation('relu')(layer)\n",
        "    layer = Dropout(0.5)(layer)\n",
        "    layer = Dense(1,name='out_layer')(layer)\n",
        "    layer = Activation('sigmoid')(layer)\n",
        "    model = Model(inputs=inputs,outputs=layer)\n",
        "    return model"
      ],
      "metadata": {
        "id": "0sNufp2c6tLC"
      },
      "execution_count": null,
      "outputs": []
    },
    {
      "cell_type": "markdown",
      "source": [
        "# **Compile the model**"
      ],
      "metadata": {
        "id": "SVmh43BeJ1zG"
      }
    },
    {
      "cell_type": "code",
      "source": [
        "model = RNN()\n",
        "model.summary()\n",
        "model.compile(loss='binary_crossentropy',optimizer=RMSprop(),metrics=['accuracy'])"
      ],
      "metadata": {
        "colab": {
          "base_uri": "https://localhost:8080/"
        },
        "id": "Q0lnLILa6zCL",
        "outputId": "1835237d-33f3-4b8c-9a1b-74c98dde02ae"
      },
      "execution_count": null,
      "outputs": [
        {
          "output_type": "stream",
          "name": "stdout",
          "text": [
            "Model: \"model\"\n",
            "_________________________________________________________________\n",
            " Layer (type)                Output Shape              Param #   \n",
            "=================================================================\n",
            " inputs (InputLayer)         [(None, 150)]             0         \n",
            "                                                                 \n",
            " embedding (Embedding)       (None, 150, 50)           50000     \n",
            "                                                                 \n",
            " lstm (LSTM)                 (None, 64)                29440     \n",
            "                                                                 \n",
            " FC1 (Dense)                 (None, 256)               16640     \n",
            "                                                                 \n",
            " activation (Activation)     (None, 256)               0         \n",
            "                                                                 \n",
            " dropout (Dropout)           (None, 256)               0         \n",
            "                                                                 \n",
            " out_layer (Dense)           (None, 1)                 257       \n",
            "                                                                 \n",
            " activation_1 (Activation)   (None, 1)                 0         \n",
            "                                                                 \n",
            "=================================================================\n",
            "Total params: 96,337\n",
            "Trainable params: 96,337\n",
            "Non-trainable params: 0\n",
            "_________________________________________________________________\n"
          ]
        }
      ]
    },
    {
      "cell_type": "markdown",
      "source": [
        "# **Model Fit**"
      ],
      "metadata": {
        "id": "UZ17_1vW66sL"
      }
    },
    {
      "cell_type": "code",
      "source": [
        "model.fit(sequences_matrix,Y_train,batch_size=128,epochs=10,\n",
        "          validation_split=0.2,callbacks=[EarlyStopping(monitor='val_loss',min_delta=0.0001)])"
      ],
      "metadata": {
        "colab": {
          "base_uri": "https://localhost:8080/"
        },
        "id": "YA0MMI3e68G-",
        "outputId": "045b32ad-f637-4932-c80e-c06935ceb44a"
      },
      "execution_count": null,
      "outputs": [
        {
          "output_type": "stream",
          "name": "stdout",
          "text": [
            "Epoch 1/10\n",
            "30/30 [==============================] - 9s 283ms/step - loss: 0.0459 - accuracy: 0.9876 - val_loss: 0.0452 - val_accuracy: 0.9863\n",
            "Epoch 2/10\n",
            "30/30 [==============================] - 8s 278ms/step - loss: 0.0345 - accuracy: 0.9905 - val_loss: 0.0437 - val_accuracy: 0.9895\n"
          ]
        },
        {
          "output_type": "execute_result",
          "data": {
            "text/plain": [
              "<keras.callbacks.History at 0x7fb3246f6f90>"
            ]
          },
          "metadata": {},
          "execution_count": 19
        }
      ]
    },
    {
      "cell_type": "markdown",
      "source": [
        "# **Save the model**"
      ],
      "metadata": {
        "id": "igcOV0WY_3RM"
      }
    },
    {
      "cell_type": "code",
      "source": [
        "model.save('spam.h5')"
      ],
      "metadata": {
        "id": "8zvfQ58ZAGuG"
      },
      "execution_count": null,
      "outputs": []
    },
    {
      "cell_type": "markdown",
      "source": [
        "# **Test the model**\n",
        "\n",
        "\n",
        "\n"
      ],
      "metadata": {
        "id": "yMQGccdI9bKb"
      }
    },
    {
      "cell_type": "code",
      "source": [
        "test_sequences = tok.texts_to_sequences(X_test)\n",
        "test_sequences_matrix = sequence.pad_sequences(test_sequences,maxlen=max_len)"
      ],
      "metadata": {
        "id": "BtyAYux69Mdi"
      },
      "execution_count": null,
      "outputs": []
    },
    {
      "cell_type": "code",
      "source": [
        "accr = model.evaluate(test_sequences_matrix,Y_test)"
      ],
      "metadata": {
        "colab": {
          "base_uri": "https://localhost:8080/"
        },
        "id": "N0KfnCG_9glh",
        "outputId": "35fbd2f4-3916-4390-9e69-b23f08ce4de6"
      },
      "execution_count": null,
      "outputs": [
        {
          "output_type": "stream",
          "name": "stdout",
          "text": [
            "27/27 [==============================] - 1s 22ms/step - loss: 0.0552 - accuracy: 0.9868\n"
          ]
        }
      ]
    },
    {
      "cell_type": "code",
      "source": [
        "print('Test set\\n  Loss: {:0.3f}\\n  Accuracy: {:0.3f}'.format(accr[0],accr[1]))"
      ],
      "metadata": {
        "colab": {
          "base_uri": "https://localhost:8080/"
        },
        "id": "VDQV3oA49lg1",
        "outputId": "a7adbddc-270e-46a6-9b85-c05aaa667421"
      },
      "execution_count": null,
      "outputs": [
        {
          "output_type": "stream",
          "name": "stdout",
          "text": [
            "Test set\n",
            "  Loss: 0.055\n",
            "  Accuracy: 0.987\n"
          ]
        }
      ]
    }
  ]
}